{
 "cells": [
  {
   "cell_type": "markdown",
   "id": "554ab0f6-d2c7-4d7a-9652-1511a2d090fd",
   "metadata": {},
   "source": [
    "### visualize simulation pair video"
   ]
  },
  {
   "cell_type": "code",
   "execution_count": null,
   "id": "27d140ed",
   "metadata": {},
   "outputs": [],
   "source": []
  },
  {
   "cell_type": "code",
   "execution_count": 2,
   "id": "b5e17013-4bd5-4306-8bfd-8526906235db",
   "metadata": {},
   "outputs": [],
   "source": [
    "import pandas as pd\n",
    "import numpy as np\n",
    "import matplotlib.pyplot as plt\n",
    "import cv2\n",
    "import ast"
   ]
  },
  {
   "cell_type": "code",
   "execution_count": 3,
   "id": "ee77de62-0b95-42a9-aa98-6f54fba21122",
   "metadata": {},
   "outputs": [],
   "source": [
    "columns_to_plot = {\n",
    "    'head': (255, 0, 0),\n",
    "    'middle': (0, 255, 0), \n",
    "    'rear': (0, 0, 255), \n",
    "    'left_front': (255, 255, 0), \n",
    "    'right_front': (255, 0, 255), \n",
    "    'left_hind': (0, 255, 255),\n",
    "    'right_hind': (128, 0, 128), \n",
    "}"
   ]
  },
  {
   "cell_type": "code",
   "execution_count": 4,
   "id": "62d60f67-c31c-4591-8e8d-6a52f0b3c064",
   "metadata": {},
   "outputs": [],
   "source": [
    "# You can change the file here\n",
    "data = pd.read_csv(\"/Users/hao/Downloads/run_0/run_0_scaled/scaled_generation_1.csv\")\n",
    "data_2 = pd.read_csv('/Users/hao/Downloads/run_0/run_0_scaled/scaled_generation_10.csv')"
   ]
  },
  {
   "cell_type": "code",
   "execution_count": 8,
   "id": "c4f05dfc-9bd7-476b-98ef-315f5876c9d1",
   "metadata": {},
   "outputs": [],
   "source": [
    "frames = data['Frame'].unique()\n",
    "\n",
    "frame_width = 1280\n",
    "frame_height = 960\n",
    "fps = 10  \n",
    "\n",
    "center_x = frame_width // 2\n",
    "center_y = frame_height // 2\n",
    "\n",
    "output_video = cv2.VideoWriter('simulation_pair.mp4', cv2.VideoWriter_fourcc(*'mp4v'), fps, (frame_width, frame_height))"
   ]
  },
  {
   "cell_type": "code",
   "execution_count": 10,
   "id": "5e053715-285c-4fd9-9e66-74d2f0bce4df",
   "metadata": {},
   "outputs": [],
   "source": [
    "for frame in frames:\n",
    "    \n",
    "    frame_data = data[data['Frame'] == frame]\n",
    "    frame_data_2 = data_2[data_2['Frame'] == frame]\n",
    "    img = np.ones((frame_height, frame_width, 3), dtype=np.uint8) * 255  # 白色背景\n",
    "\n",
    "    coords_1 = {}\n",
    "    coords_2 = {}\n",
    "    \n",
    "    for column, color in columns_to_plot.items():\n",
    "        if column in frame_data.columns: # check if the column exists\n",
    "            for index, row in frame_data.iterrows():\n",
    "                if pd.notna(row[column]) and isinstance(row[column], str):\n",
    "                    try:\n",
    "                        coord = eval(row[column])  \n",
    "                        x = int(center_x + coord[0])\n",
    "                        y = int(center_y - coord[1])\n",
    "                        cv2.circle(img, (x, y), 3, (0,0,0), -1)  \n",
    "                        coords_1[column] = (x, y)\n",
    "                    except:\n",
    "                        print(f\"Error parsing coordinates for {column} in frame {frame}\")\n",
    "\n",
    "    for column, color in columns_to_plot.items():\n",
    "        if column in frame_data_2.columns: # check if the column exists\n",
    "            for index, row in frame_data_2.iterrows():\n",
    "                if pd.notna(row[column]) and isinstance(row[column], str):\n",
    "                    try:\n",
    "                        coord = eval(row[column])  \n",
    "                        x = int(center_x + coord[0])\n",
    "                        y = int(center_y - coord[1])\n",
    "                        cv2.circle(img, (x, y), 3, (0,0,255), -1)  \n",
    "                        coords_2[column] = (x, y)\n",
    "                        # cv2.putText(img, column, (x + 5, y - 5), cv2.FONT_HERSHEY_SIMPLEX, 0.4, color, 1, cv2.LINE_AA)\n",
    "                    except:\n",
    "                        print(f\"Error parsing coordinates for {column} in frame {frame}\")\n",
    "\n",
    "    # Draw lines for first dataset (coords_1)\n",
    "    if all(k in coords_1 for k in ['head', 'left_front']):\n",
    "        cv2.line(img, coords_1['head'], coords_1['left_front'], (0, 0, 0), 1)\n",
    "    if all(k in coords_1 for k in ['head', 'right_front']):\n",
    "        cv2.line(img, coords_1['head'], coords_1['right_front'], (0, 0, 0), 1)\n",
    "    if all(k in coords_1 for k in ['head', 'middle']):\n",
    "        cv2.line(img, coords_1['head'], coords_1['middle'], (0, 0, 0), 1)\n",
    "    if all(k in coords_1 for k in ['rear', 'left_hind']):\n",
    "        cv2.line(img, coords_1['rear'], coords_1['left_hind'], (0, 0, 0), 1)\n",
    "    if all(k in coords_1 for k in ['rear', 'right_hind']):\n",
    "        cv2.line(img, coords_1['rear'], coords_1['right_hind'], (0, 0, 0), 1)\n",
    "    if all(k in coords_1 for k in ['middle', 'rear']):\n",
    "        cv2.line(img, coords_1['middle'], coords_1['rear'], (0, 0, 0), 1)\n",
    "\n",
    "    # Draw lines for second dataset (coords_2)\n",
    "    if all(k in coords_2 for k in ['head', 'left_front']):\n",
    "        cv2.line(img, coords_2['head'], coords_2['left_front'], (0, 0, 255), 1)\n",
    "    if all(k in coords_2 for k in ['head', 'right_front']):\n",
    "        cv2.line(img, coords_2['head'], coords_2['right_front'], (0, 0, 255), 1)\n",
    "    if all(k in coords_2 for k in ['head', 'middle']):\n",
    "        cv2.line(img, coords_2['head'], coords_2['middle'], (0, 0, 255), 1)\n",
    "    if all(k in coords_2 for k in ['rear', 'left_hind']):\n",
    "        cv2.line(img, coords_2['rear'], coords_2['left_hind'], (0, 0, 255), 1)\n",
    "    if all(k in coords_2 for k in ['rear', 'right_hind']):\n",
    "        cv2.line(img, coords_2['rear'], coords_2['right_hind'], (0, 0, 255), 1)\n",
    "    if all(k in coords_2 for k in ['middle', 'rear']):\n",
    "        cv2.line(img, coords_2['middle'], coords_2['rear'], (0, 0, 255), 1)\n",
    "\n",
    "\n",
    "                   \n",
    "    output_video.write(img)\n"
   ]
  },
  {
   "cell_type": "code",
   "execution_count": 11,
   "id": "fbbe1d92-4615-4724-acab-5b5642d1f3aa",
   "metadata": {},
   "outputs": [],
   "source": [
    "output_video.release()\n",
    "\n",
    "cv2.destroyAllWindows()"
   ]
  },
  {
   "cell_type": "code",
   "execution_count": 12,
   "id": "5d1f102f-7812-41bd-b47d-5350b8120cac",
   "metadata": {},
   "outputs": [
    {
     "name": "stdout",
     "output_type": "stream",
     "text": [
      "MoviePy - Building file simulation_pair.gif with imageio.\n"
     ]
    },
    {
     "name": "stderr",
     "output_type": "stream",
     "text": [
      "                                                                                \r"
     ]
    }
   ],
   "source": [
    "from moviepy.editor import VideoFileClip\n",
    "\n",
    "clip = VideoFileClip(\"simulation_pair.mp4\")\n",
    "\n",
    "# 将视频片段转换为GIF\n",
    "clip.write_gif(\"simulation_pair.gif\", fps=10)\n",
    "\n",
    "clip.close()"
   ]
  },
  {
   "cell_type": "code",
   "execution_count": null,
   "id": "2587b1a7-de87-407e-a971-0f796b4d71b3",
   "metadata": {},
   "outputs": [],
   "source": []
  }
 ],
 "metadata": {
  "kernelspec": {
   "display_name": "Python 3",
   "language": "python",
   "name": "python3"
  },
  "language_info": {
   "codemirror_mode": {
    "name": "ipython",
    "version": 3
   },
   "file_extension": ".py",
   "mimetype": "text/x-python",
   "name": "python",
   "nbconvert_exporter": "python",
   "pygments_lexer": "ipython3",
   "version": "3.10.16"
  }
 },
 "nbformat": 4,
 "nbformat_minor": 5
}
